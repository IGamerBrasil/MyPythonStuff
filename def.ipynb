{
 "cells": [
  {
   "attachments": {},
   "cell_type": "markdown",
   "metadata": {},
   "source": [
    "To do functions in python you begin with def, same as public in java"
   ]
  },
  {
   "cell_type": "code",
   "execution_count": 3,
   "metadata": {},
   "outputs": [
    {
     "name": "stdout",
     "output_type": "stream",
     "text": [
      "Hello Gauterio\n",
      "40\n"
     ]
    }
   ],
   "source": [
    "def name_of_function(name):\n",
    "    \"\"\"\n",
    "        _summary_\n",
    "    \"\"\"\n",
    "    print('Hello '+ name)\n",
    "\n",
    "name_of_function('Gauterio')\n",
    "\n",
    "def add_function(num1, num2):\n",
    "    \"\"\"\n",
    "        faz soma\n",
    "    \"\"\"\n",
    "    return num1+num2\n",
    "\n",
    "num1 = 20\n",
    "num2 = 20\n",
    "\n",
    "sum = add_function(num1,num2)\n",
    "\n",
    "print(sum)"
   ]
  },
  {
   "cell_type": "code",
   "execution_count": null,
   "metadata": {},
   "outputs": [],
   "source": []
  }
 ],
 "metadata": {
  "kernelspec": {
   "display_name": "Python 3",
   "language": "python",
   "name": "python3"
  },
  "language_info": {
   "codemirror_mode": {
    "name": "ipython",
    "version": 3
   },
   "file_extension": ".py",
   "mimetype": "text/x-python",
   "name": "python",
   "nbconvert_exporter": "python",
   "pygments_lexer": "ipython3",
   "version": "3.11.2"
  },
  "orig_nbformat": 4
 },
 "nbformat": 4,
 "nbformat_minor": 2
}
